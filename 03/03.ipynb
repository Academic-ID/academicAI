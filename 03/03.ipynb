{
 "cells": [
  {
   "cell_type": "markdown",
   "metadata": {},
   "source": [
    "# Transcribe Audio\n",
    "\n",
    "Use these two functions to transcribe audio. The first panel below will\n",
    "transcribe a single file, the second will transcribe a folder full of files.\n",
    "\n",
    "All transcriptions are saved in the `completed_transcriptions` folder\n",
    "\n",
    "The only information you need to provide is the audio file or folder containing\n",
    "files. There is an example file within the `to_transcribe` folder and the below\n",
    "code is currently set up to transcribe that file. For ease, the quickest way to\n",
    "get started is to add your files for transcription into the `to_transcribe`\n",
    "folder and then update the file name ('test.mp3') in cell 1, or just run the\n",
    "cell that will transcribe all files in that folder.\n",
    "\n",
    "The following filetypes are supported:\n",
    "\n",
    "`.mp3, .mp4, .mpeg, .mpga, .m4a, .wav, .webm`\n",
    "\n",
    "---\n",
    "\n",
    "### A note on large files\n",
    "\n",
    "The [Whisper API](https://openai.com/research/whisper) only accepts files up to\n",
    "25mb in size. This code will handle files that are greater than this. However,\n",
    "to do so, it requires the `FFMpeg` package to be installed on your machine. This\n",
    "can be installed by following the instructions here:\n",
    "https://ffmpeg.org/download.html\n",
    "\n",
    "To handle larger files, this code breaks the original audio file into chunks.\n",
    "While this works to get under the size limit, it can sometimes cut off words or\n",
    "lead to slightly odd transcriptions around the point the audio was spliced. To\n",
    "deal with this, if the file has been spilt, the final transcript will include a\n",
    "line of asterisks (\\*\\*\\*\\*) where the seperate chunks have been rejoined. This\n",
    "should allow you to more easily jump in and manually correct any odd\n",
    "transcription behaviour.\n"
   ]
  },
  {
   "cell_type": "code",
   "execution_count": null,
   "metadata": {},
   "outputs": [],
   "source": [
    "from audio.transcribe import get_transcription\n",
    "import shutil\n",
    "import os\n",
    "import time\n",
    "\n",
    "audio_file = open(\"./to_transcribe/test.mp3\", \"rb\")\n",
    "name = audio_file.name.split(\"/\")[-1].split(\".\")[0]\n",
    "transcript = get_transcription(audio_file)\n",
    "\n",
    "timestamp = time.strftime(\"%Y_%m_%d_%H_%M_%S\")\n",
    "save_dir = \"completed_transcriptions/\"\n",
    "filename = f\"completed_transcriptions/{name}_{timestamp}.txt\"\n",
    "\n",
    "os.makedirs(os.path.dirname(save_dir), exist_ok=True)\n",
    "\n",
    "with open(filename, \"w\") as f:\n",
    "    f.write(transcript)\n",
    "\n",
    "os.makedirs(os.path.dirname('./completed_audio_files/'), exist_ok=True)\n",
    "\n",
    "# Move the audio file to the completed folder\n",
    "shutil.move(audio_file.name, \"./completed_audio_files/\")"
   ]
  },
  {
   "cell_type": "markdown",
   "metadata": {},
   "source": [
    "## Transcribe a folder full of files\n",
    "\n",
    "This will transcribe all files within the `to_transcribe` directory. A new sub\n",
    "directory is created in the `completed_transcriptions` folder containing these\n",
    "transcriptions.\n"
   ]
  },
  {
   "cell_type": "code",
   "execution_count": null,
   "metadata": {},
   "outputs": [],
   "source": [
    "from audio.transcribe import get_transcription\n",
    "import shutil\n",
    "import os\n",
    "import time\n",
    "\n",
    "folder_path = \"./to_transcribe\"\n",
    "audio_files = os.listdir(folder_path)\n",
    "timestamp = time.strftime(\"%Y_%m_%d_%H_%M_%S\")\n",
    "save_dir = f\"completed_transcriptions/{timestamp}\"\n",
    "os.makedirs(save_dir, exist_ok=True)\n",
    "\n",
    "completed_audio_dir = './completed_audio_files/'\n",
    "os.makedirs(completed_audio_dir, exist_ok=True)\n",
    "\n",
    "for audio_file_name in audio_files:\n",
    "    try: \n",
    "        audio_file_path = os.path.join(folder_path, audio_file_name)\n",
    "        name = audio_file_name.split(\"/\")[-1].split(\".\")[0]\n",
    "        print(f\"Transcribing {name}...\")    \n",
    "        transcript = get_transcription(audio_file_path)\n",
    "        timestamp = time.strftime(\"%Y_%m_%d_%H_%M_%S\")\n",
    "        filename = f\"{save_dir}/{name}_{timestamp}.txt\"\n",
    "        with open(filename, \"w\") as f:\n",
    "            f.write(transcript)\n",
    "        shutil.move(audio_file_path, os.path.join(completed_audio_dir, audio_file_name))\n",
    "        print(f\"Transcription for {audio_file_name} completed\")\n",
    "    except Exception as e:\n",
    "        print(f\"Error transcribing {audio_file_name}: {e}\")\n",
    "        continue"
   ]
  }
 ],
 "metadata": {
  "kernelspec": {
   "display_name": "venv",
   "language": "python",
   "name": "python3"
  },
  "language_info": {
   "codemirror_mode": {
    "name": "ipython",
    "version": 3
   },
   "file_extension": ".py",
   "mimetype": "text/x-python",
   "name": "python",
   "nbconvert_exporter": "python",
   "pygments_lexer": "ipython3",
   "version": "3.12.0"
  }
 },
 "nbformat": 4,
 "nbformat_minor": 2
}
