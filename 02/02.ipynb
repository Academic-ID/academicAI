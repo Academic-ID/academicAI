{
 "cells": [
  {
   "cell_type": "markdown",
   "metadata": {},
   "source": [
    "# Find and summarise relevant pages within documents\n",
    "\n",
    "## How this works\n",
    "\n",
    "For **docx (Word)** and **PDF** files, this code will first find pages that\n",
    "match the keywords that you define in the `keywords` array.\n",
    "\n",
    "It will then send these pages to the LLM to determine if the page is relevant to\n",
    "the task you have set, and if it is, it will summarise the page.\n",
    "\n",
    "For all relevent pages, these are recorded in a spreadsheet in the results\n",
    "folder.\n",
    "\n",
    "## Instructions\n",
    "\n",
    "There are three inputs required to make this work. If this is a fresh install,\n",
    "there example below gives a good outline of what to include (this can always be\n",
    "found back at the [Github repo](https://github.com/Academic-ID/academicAI)).\n",
    "\n",
    "1. You need to provide a list of **keywords** in the cell below to search for in\n",
    "   the documents. This can be any number of keywords and should look like the\n",
    "   following: `keywords = ['regulation', 'regulatory']`. This stage is akin to\n",
    "   doing a Ctr+F over a document. You should first ensure PDF documents have\n",
    "   readable text. This code doesn't at this stage provide an OCR functionality\n",
    "   so if documents do not have searchable text, this code will miss them\n",
    "   entirely (to check, open the file and see if you can select text as you would\n",
    "   to copy and paste it).\n",
    "2. You need to detail the **task** that the AI assistant is carrying out. It is\n",
    "   vital that you are extremely explicit in your instructions. The more detailed\n",
    "   you are, the better the summaries you will receive and the lower the\n",
    "   liklihood that something relevant is missed.\n",
    "3. To speed things up, pages are processed in parallel. How many pages are being\n",
    "   processed at one time is set by the **max_workers** variable. There are two\n",
    "   things you need to consider when setting this. First, your machine's\n",
    "   resources (e.g. available threads), and second (and likely more of a concern)\n",
    "   the rate limiting of requests to the LLM. It is worth playing around with\n",
    "   this value starting from higher to lower and reducing the number until errors\n",
    "   stop appearing. Between 5 and 10 seems a fairly safe bet just using the API\n",
    "   with no additional rate limit increases.\n"
   ]
  },
  {
   "cell_type": "code",
   "execution_count": 1,
   "metadata": {},
   "outputs": [
    {
     "data": {
      "application/vnd.jupyter.widget-view+json": {
       "model_id": "06ed06e93ac340f7aefd1deff277d451",
       "version_major": 2,
       "version_minor": 0
      },
      "text/plain": [
       "  0%|          | 0/29 [00:00<?, ?it/s]"
      ]
     },
     "metadata": {},
     "output_type": "display_data"
    },
    {
     "data": {
      "text/plain": [
       "'Overivew saved at: result/00. Summaries.xlsx'"
      ]
     },
     "execution_count": 1,
     "metadata": {},
     "output_type": "execute_result"
    }
   ],
   "source": [
    "from processor.handler import process\n",
    "\n",
    "keywords = [\n",
    "    'regulation', 'regulatory', 'compliance', 'comply', 'compliant', 'ombudsman',\n",
    "    'ombud', 'industry code', 'Comms Alliance', 'Communications Alliance',\n",
    "    'Communication Alliance', 'ACIF', 'Australian Communications Industry Forum',\n",
    "    'ACMA', 'Australian Communications and Media Authority', 'Communications and Media Authority'\n",
    "]\n",
    "\n",
    "task = \"\"\"You are a highly paid, and highly respected academic at a prestigious university. \n",
    "\n",
    "Your expertise is in the field of Australian Telecommunications Regulation. \n",
    "\n",
    "You have been asked to provide a summary of TPG (and predecessors Vodafone and Hutchinsons)'s compliance approach in Australia. \n",
    "\n",
    "You have been provided with a page from a public document from these companies. \n",
    "    \n",
    "Your task is to read the text very carefully and thoroughly. \n",
    "\n",
    "Your task is to determine if it contains any information relevant to TPG's compliance approaches in Australia (more details below). If so, you must summarise the information.\n",
    "\n",
    "What I mean by compliance approaches:\n",
    "- I am interested in how the company complies with its regulatory obligations as a telecommunications provider in Australia. This includes any information on how TPG ensures it complies with the law, industry codes, and any other telecommunications-focused regulatory obligations. \n",
    "- This is only in relation to regulations specific to the telecommunications industry. Do not include anything relating to companies regulations (e.g. Australian consumer law, tax law, stock exchange or other non-telecommunications related regulation).\n",
    "- Some keywords for regulation within the telecommunications industry includes ACMA (Australian Communications and Media Authority), TCP (Telecommunications Consumer Protections Code), MPS (Mobile Premium Services Code), mobile base station deployment, Comms Alliance (Communications Alliance), ACIF (Australian Communications Industry Forum), and other industry codes or consumer specific provisions/regulations.\n",
    "- I want to know what information they have provided relating to how they approach compliance, and how they interact with the regulator (ACMA) and other industry participants.\n",
    "\n",
    "What I mean by summarise:\n",
    "- Please write a paragraph or two summarising the information you have found.\n",
    "- Keep it highly factual, relying purely on what is provided in the text for your summary.\n",
    "- Please do not copy and paste the information you have found. I want you to read the information carefully, understand it, and then summarise it in your own words. However, the only caveat to this is to ensure to maintain language with specific meaning to regulation or law. For example, words such as 'comply', 'presumption' or 'regulation' should be maintained.\n",
    "- Please use extremely clear and precise language. You do not need to use overly descriptive or emotive language. I want to know the facts, not your opinion or evaluation on the approach. Do not speculate or try to summarise what you think the approach is. Only summarise what is provided in the text. For example, do not write something along the lines of: 'this demonstrates a robust approach to compliance'. Instead, write something like: 'TPG's compliance approach includes...'.\n",
    "- Do not include marketspeech (adjectives or adverbs TPG has used to describe their approaches in more positive terms) - just provide a plain english recount of their compliance approach as documented in the text.\n",
    "- Do not make reference to the text by saying 'the provided text' or anything like that. Do not use phrases such as 'This text' or 'This document' to start your summary and/or introduce the text. Just recount what is in the provided text.\n",
    "\n",
    "If there is no information relevant to compliance approaches:\n",
    "- Return with a message stating: N/A (you do not need to summarise anything, you do not need to explain what is on the page or why it is not relevant, just return with N/A)\n",
    "\n",
    "Other notes:\n",
    "- Please do not include any information that is not relevant to telecommunications compliance approaches (refer to above notes on 'What I mean by compliance approaches').\n",
    "- Please do not summarise pages that are just tables, contents pages, glossary pages, index pages or similar.\n",
    "- Read the provided text very carefully and thoroughly. If you do not read the text carefully and thoroughly, you will not be able to complete the task. If this task is not completed to the highest quality and exactly as per these instructions, you and I will loose our jobs so it is vital you follow these instructions very carefully.\"\"\"\n",
    "\n",
    "source_folder_path = 'content'\n",
    "destination_folder_path = 'result'\n",
    "max_workers = 10\n",
    "\n",
    "process(keywords, task, source_folder_path, destination_folder_path)"
   ]
  }
 ],
 "metadata": {
  "kernelspec": {
   "display_name": "venv",
   "language": "python",
   "name": "python3"
  },
  "language_info": {
   "codemirror_mode": {
    "name": "ipython",
    "version": 3
   },
   "file_extension": ".py",
   "mimetype": "text/x-python",
   "name": "python",
   "nbconvert_exporter": "python",
   "pygments_lexer": "ipython3",
   "version": "3.12.0"
  }
 },
 "nbformat": 4,
 "nbformat_minor": 2
}
