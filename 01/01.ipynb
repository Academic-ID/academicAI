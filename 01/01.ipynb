{
 "cells": [
  {
   "cell_type": "markdown",
   "metadata": {},
   "source": [
    "# Summarise folder content\n",
    "\n",
    "Use this notebook to summarise content within the to_summarise folder.\n",
    "\n",
    "This function will summarise the following document types:\n",
    "\n",
    "- docx (Word)\n",
    "- pdf\n",
    "- pptx (PowerPoint)\n",
    "- xlsx (Excel)\n",
    "- txt (plain text files)\n",
    "- rtf (rich text files)\n",
    "\n",
    "This function will also summarise content within subfolders and provide and\n",
    "overall summary of the content of these subfolders in the parent folders summary\n",
    "table.\n",
    "\n",
    "For each parent folder, this function will create an excel spreadsheet that\n",
    "contains the summaries.\n",
    "\n",
    "### Custom instruction\n",
    "\n",
    "You can provide a custom instruction to focus the summarisation of documents.\n",
    "Just add the instruction within the quotation marks here:\n",
    "`custom_instructions = ''`\n",
    "\n",
    "### Unique ID & repeating\n",
    "\n",
    "You will see that each Folder Contents file will have a unique string (7\n",
    "characters) in the name. This is to prevent repeating folders already completed.\n",
    "You can use this to continue a task (instead of restarting) if it is interupted.\n",
    "Simply copy the unique string exatly as it appears and add it within the\n",
    "quotation marks here: `unique_id = ''`\n"
   ]
  },
  {
   "cell_type": "code",
   "execution_count": null,
   "metadata": {},
   "outputs": [],
   "source": [
    "from processors.processor import process_directory, count_items\n",
    "from tqdm.notebook import tqdm\n",
    "\n",
    "custom_instructions = ''\n",
    "\n",
    "unique_id = ''\n",
    "\n",
    "summary_path = 'to_summarise'\n",
    "\n",
    "total_items = count_items(summary_path, unique_id)\n",
    "pbar = tqdm(total=total_items)\n",
    "\n",
    "await process_directory(summary_path, pbar, custom_instructions, unique_id)\n",
    "pbar.close()\n"
   ]
  }
 ],
 "metadata": {
  "kernelspec": {
   "display_name": "venv",
   "language": "python",
   "name": "python3"
  },
  "language_info": {
   "codemirror_mode": {
    "name": "ipython",
    "version": 3
   },
   "file_extension": ".py",
   "mimetype": "text/x-python",
   "name": "python",
   "nbconvert_exporter": "python",
   "pygments_lexer": "ipython3",
   "version": "3.12.0"
  }
 },
 "nbformat": 4,
 "nbformat_minor": 2
}
