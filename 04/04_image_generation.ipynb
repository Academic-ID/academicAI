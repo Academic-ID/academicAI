{
 "cells": [
  {
   "cell_type": "markdown",
   "metadata": {},
   "source": [
    "# Generate image\n"
   ]
  },
  {
   "cell_type": "markdown",
   "metadata": {},
   "source": [
    "## Instructions\n",
    "\n",
    "Provide an image description as the prompt variable.\n",
    "\n",
    "Set the dimension as one of the following:\n",
    "\n",
    "- Square\n",
    "- Tall\n",
    "- Wide\n",
    "\n",
    "Run the cell.\n",
    "\n",
    "## Notes\n",
    "\n",
    "This will display the image and also save it within the `generated images`\n",
    "folder.\n",
    "\n",
    "In generating images, the DALL·E 3 API (through both OpenAI and Azure) crafts a\n",
    "new prompt based on your original prompt. To promote transparency, for each\n",
    "generated image, the details are saved in a JSON file within the\n",
    "`generated images` folder. Below is an example of what is recorded. The\n",
    "`actual_description` is the recrafted prompt used to generate the image.\n",
    "\n",
    "---\n",
    "\n",
    "```\n",
    "[\n",
    "  {\n",
    "    \"prompt\": \"Generate an image showing the aftermath of an American thanksgiving feast where everyone has eaten too much food, but there is still plenty of food remaining.\",\n",
    "    \"actual_description\": \"Picture an American Thanksgiving table aftermath scene. The guests, people of diverse races and genders, are lounging lazily, looking content and full from the hearty meal they've just shared. Platters, plates, and bowls still brimming with an assortment of festive foods, from a partially carved turkey to a half-eaten pumpkin pie, scattered cranberry sauce and rolls, are strewn across the length of the lavishly decorated table. Wine glasses are at half fill, reflecting the warm light of overhead chandelier. Autumn-themed tablecloth and d\\u00e9cor add to the feeling of warmth and tradition surrounding the meal.\",\n",
    "    \"filename\": \"generated images/20240331-100147.png\",\n",
    "    \"url\": \"https://dalleprodsec.blob.core.windows....\",\n",
    "    \"dimensions\": \"1792x1024\"\n",
    "  }\n",
    "]\n",
    "\n",
    "```\n",
    "\n",
    "---\n"
   ]
  },
  {
   "cell_type": "code",
   "execution_count": null,
   "metadata": {},
   "outputs": [],
   "source": [
    "from IPython.display import display, Image\n",
    "from functions.image import gen_image\n",
    "\n",
    "prompt=\"\"\"Generate an image showing the aftermath of an American thanksgiving feast where everyone has eaten too much food, but there is still plenty of food remaining.\"\"\"\n",
    "\n",
    "dimensions='wide'\n",
    "\n",
    "def image(prompt, dim):\n",
    "    filename = gen_image(prompt, dim)\n",
    "    return filename\n",
    "\n",
    "display(Image(image(prompt, dimensions)))"
   ]
  }
 ],
 "metadata": {
  "kernelspec": {
   "display_name": "venv",
   "language": "python",
   "name": "python3"
  },
  "language_info": {
   "codemirror_mode": {
    "name": "ipython",
    "version": 3
   },
   "file_extension": ".py",
   "mimetype": "text/x-python",
   "name": "python",
   "nbconvert_exporter": "python",
   "pygments_lexer": "ipython3",
   "version": "3.12.0"
  }
 },
 "nbformat": 4,
 "nbformat_minor": 2
}
