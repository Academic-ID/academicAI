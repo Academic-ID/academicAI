{
 "cells": [
  {
   "cell_type": "markdown",
   "metadata": {},
   "source": [
    "# Text to voice\n"
   ]
  },
  {
   "cell_type": "markdown",
   "metadata": {},
   "source": [
    "Requires an [ElevenLabs api key](https://elevenlabs.io/api)\n",
    "\n",
    "If you have custom voices in Elevenlabs, you can set the `DESIRED_VOICE` by\n",
    "noting the name of the voice, or the voice ID. Otherwise this can be left blank\n",
    "and a generic voice will be returned.\n",
    "\n",
    "Provide the text you want to turn to voice in the `text_to_voice` variable.\n",
    "\n",
    "The output will automatically start playing and will also be saved in the\n",
    "`generated voice` folder.\n",
    "\n",
    "A record of each text to voice call is also saved in the\n",
    "`00. Generated voice record.json` file.\n"
   ]
  },
  {
   "cell_type": "code",
   "execution_count": 3,
   "metadata": {},
   "outputs": [],
   "source": [
    "from functions.voice import get_audio\n",
    "\n",
    "DESIRED_VOICE=''\n",
    "\n",
    "text_to_voice=\"\"\"Hello there, how are you on this fine summers day?\"\"\"\n",
    "\n",
    "await get_audio(text_to_voice, DESIRED_VOICE)"
   ]
  }
 ],
 "metadata": {
  "kernelspec": {
   "display_name": "venv",
   "language": "python",
   "name": "python3"
  },
  "language_info": {
   "codemirror_mode": {
    "name": "ipython",
    "version": 3
   },
   "file_extension": ".py",
   "mimetype": "text/x-python",
   "name": "python",
   "nbconvert_exporter": "python",
   "pygments_lexer": "ipython3",
   "version": "3.12.0"
  }
 },
 "nbformat": 4,
 "nbformat_minor": 2
}
